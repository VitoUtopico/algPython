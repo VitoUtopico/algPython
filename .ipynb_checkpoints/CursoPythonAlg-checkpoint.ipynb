{
 "cells": [
  {
   "cell_type": "markdown",
   "metadata": {},
   "source": [
    "1. [**Algoritmos**](#1)  \n",
    "    1.1. [**O que são:**](#1.1)  \n",
    "    1.2. [**Desenvolvendo o algoritmo**](#1.2)\n",
    "2. [**Python**](#2)  \n",
    "    2.1. [**Linguagem de programação**](#2.1) <br>\n",
    "    2.2. [**Características do Python**](#2.2)"
   ]
  },
  {
   "cell_type": "markdown",
   "metadata": {},
   "source": [
    "# 1. Algoritmos <a name=\"1\"/>\n",
    "\n",
    " ### 1.1. O que são: <a name=\"1.1\"/>\n",
    "\n",
    "* **Sequencia de procedimentos a se seguir para atingir determinado resultado**"
   ]
  },
  {
   "cell_type": "markdown",
   "metadata": {},
   "source": []
  },
  {
   "cell_type": "markdown",
   "metadata": {},
   "source": []
  },
  {
   "cell_type": "markdown",
   "metadata": {},
   "source": [
    "### 1.2. Desenvolvendo o algoritmo (sugestões):  <a name=\"1.2\" />\n",
    "\n",
    "* **Descrever a tarefa;**\n",
    "* **Esquematisar a tarefa;**\n",
    "* **Transformar esse esquema em uma forma gráfica.**"
   ]
  },
  {
   "cell_type": "markdown",
   "metadata": {},
   "source": [
    "* **Descrever a tarefa;**\n",
    "* **Esquematisar a tarefa;**\n",
    "* **Transformar esse esquema em uma forma gráfica.**"
   ]
  },
  {
   "cell_type": "markdown",
   "metadata": {},
   "source": [
    "# 2. Python <a name=\"2\">"
   ]
  },
  {
   "cell_type": "markdown",
   "metadata": {},
   "source": [
    "### 2.1. Linguagem de programação: <a name=\"2.1\">\n",
    "    \n",
    "* **Linguagem formal desenvolvida para instruir um sistema computacional a realizar determinada tarefa;**\n",
    "* **Existem várias, como C, C++, C#, PHP, Pascal, Java, Assembly, Scratch, Pearl, Ruby... ah! Python também!**\n",
    "\n",
    "### 2.2 Características do Python:  <a name=\"2.2\">\n",
    "* **Linguagem interpretada;**\n",
    "* **Popular, simples e agradável de lidar;**\n",
    "* **Expressiva;**\n",
    "* **Multiplataforma;**\n",
    "* **Biblioteca padrão bastante extensa (muito recurso nativo);**\n",
    "* **Milhares de bibliotecas e frameworks como NumPy, Pandas, Scykit-learn, Django, Kivy...**"
   ]
  },
  {
   "cell_type": "markdown",
   "metadata": {},
   "source": [
    "\n"
   ]
  },
  {
   "cell_type": "markdown",
   "metadata": {},
   "source": [
    "# !!!! Mão na massa!!!!"
   ]
  },
  {
   "cell_type": "markdown",
   "metadata": {},
   "source": [
    "# Descrevendo uma tarefa:\n",
    "\n",
    "#### Separar ingredientes:\n",
    "> - 2x Ovos;\n",
    "> - Manteiga;\n",
    "> - Sal.\n",
    "\n",
    "#### Preparo:\n",
    "- Acender o fogo baixo;\n",
    "- Adicionar manteiga suficiente à frigideira;\n",
    "- Adicionar os ovos sem casca à frigideira;\n",
    "- Adicionar um pouco de sal;\n",
    "- Caso queira ovos mexidos:\n",
    "        Mexer um pouco os ovos enquanto fritam;\n",
    "  Caso não:\n",
    "        Mantenha tempo sificiente para a clara ficar completamente branca;\n",
    "- Ovos prontos!\n"
   ]
  },
  {
   "cell_type": "code",
   "execution_count": 1,
   "metadata": {},
   "outputs": [],
   "source": [
    "lista = list()"
   ]
  },
  {
   "cell_type": "code",
   "execution_count": 2,
   "metadata": {},
   "outputs": [],
   "source": [
    "def textFogo(intensidade, lista):\n",
    "    if intensidade == 1: lista.append('Fogo alto')\n",
    "    else: lista.append('Fogo baixo')"
   ]
  },
  {
   "cell_type": "code",
   "execution_count": 3,
   "metadata": {},
   "outputs": [],
   "source": [
    "def textIngrediente(numIngrediente, lista, continua):\n",
    "    if num == 1: lista.append('Ovo')\n",
    "    elif num == 2: lista.append('Manteiga')\n",
    "    elif num == 3: lista.append('Sal')\n",
    "    elif num == 4: continua = false"
   ]
  },
  {
   "cell_type": "code",
   "execution_count": 4,
   "metadata": {},
   "outputs": [
    {
     "name": "stdout",
     "output_type": "stream",
     "text": [
      "O que deseja fazer?\n",
      "1.Acender o fogo alto, 2.Acender o fogo baixo2\n",
      "E agora? \n",
      "1.Add um ovo, 2.Add manteiga, 3.Add sal, 4.Acabei de adicionar os ingredientes2\n"
     ]
    },
    {
     "ename": "NameError",
     "evalue": "name 'num' is not defined",
     "output_type": "error",
     "traceback": [
      "\u001b[1;31m---------------------------------------------------------------------------\u001b[0m",
      "\u001b[1;31mNameError\u001b[0m                                 Traceback (most recent call last)",
      "\u001b[1;32m<ipython-input-4-155b3a8fad2a>\u001b[0m in \u001b[0;36m<module>\u001b[1;34m\u001b[0m\n\u001b[0;32m      6\u001b[0m     addIngrediente = int(input(\"E agora? \\n\"\n\u001b[0;32m      7\u001b[0m                            \"1.Add um ovo, 2.Add manteiga, 3.Add sal, 4.Acabei de adicionar os ingredientes\"))\n\u001b[1;32m----> 8\u001b[1;33m     \u001b[0mtextIngrediente\u001b[0m\u001b[1;33m(\u001b[0m\u001b[0maddIngrediente\u001b[0m\u001b[1;33m,\u001b[0m \u001b[0mlista\u001b[0m\u001b[1;33m,\u001b[0m \u001b[0mcontinua\u001b[0m\u001b[1;33m)\u001b[0m\u001b[1;33m\u001b[0m\u001b[0m\n\u001b[0m",
      "\u001b[1;32m<ipython-input-3-0596752f9594>\u001b[0m in \u001b[0;36mtextIngrediente\u001b[1;34m(numIngrediente, lista, continua)\u001b[0m\n\u001b[0;32m      1\u001b[0m \u001b[1;32mdef\u001b[0m \u001b[0mtextIngrediente\u001b[0m\u001b[1;33m(\u001b[0m\u001b[0mnumIngrediente\u001b[0m\u001b[1;33m,\u001b[0m \u001b[0mlista\u001b[0m\u001b[1;33m,\u001b[0m \u001b[0mcontinua\u001b[0m\u001b[1;33m)\u001b[0m\u001b[1;33m:\u001b[0m\u001b[1;33m\u001b[0m\u001b[0m\n\u001b[1;32m----> 2\u001b[1;33m     \u001b[1;32mif\u001b[0m \u001b[0mnum\u001b[0m \u001b[1;33m==\u001b[0m \u001b[1;36m1\u001b[0m\u001b[1;33m:\u001b[0m \u001b[0mlista\u001b[0m\u001b[1;33m.\u001b[0m\u001b[0mappend\u001b[0m\u001b[1;33m(\u001b[0m\u001b[1;34m'Ovo'\u001b[0m\u001b[1;33m)\u001b[0m\u001b[1;33m\u001b[0m\u001b[0m\n\u001b[0m\u001b[0;32m      3\u001b[0m     \u001b[1;32melif\u001b[0m \u001b[0mnum\u001b[0m \u001b[1;33m==\u001b[0m \u001b[1;36m2\u001b[0m\u001b[1;33m:\u001b[0m \u001b[0mlista\u001b[0m\u001b[1;33m.\u001b[0m\u001b[0mappend\u001b[0m\u001b[1;33m(\u001b[0m\u001b[1;34m'Manteiga'\u001b[0m\u001b[1;33m)\u001b[0m\u001b[1;33m\u001b[0m\u001b[0m\n\u001b[0;32m      4\u001b[0m     \u001b[1;32melif\u001b[0m \u001b[0mnum\u001b[0m \u001b[1;33m==\u001b[0m \u001b[1;36m3\u001b[0m\u001b[1;33m:\u001b[0m \u001b[0mlista\u001b[0m\u001b[1;33m.\u001b[0m\u001b[0mappend\u001b[0m\u001b[1;33m(\u001b[0m\u001b[1;34m'Sal'\u001b[0m\u001b[1;33m)\u001b[0m\u001b[1;33m\u001b[0m\u001b[0m\n\u001b[0;32m      5\u001b[0m     \u001b[1;32melif\u001b[0m \u001b[0mnum\u001b[0m \u001b[1;33m==\u001b[0m \u001b[1;36m4\u001b[0m\u001b[1;33m:\u001b[0m \u001b[0mcontinua\u001b[0m \u001b[1;33m=\u001b[0m \u001b[0mfalse\u001b[0m\u001b[1;33m\u001b[0m\u001b[0m\n",
      "\u001b[1;31mNameError\u001b[0m: name 'num' is not defined"
     ]
    }
   ],
   "source": [
    "print('O que deseja fazer?')\n",
    "intensidade = int(input('1.Acender o fogo alto, 2.Acender o fogo baixo'))\n",
    "\n",
    "continua = True\n",
    "while(True):\n",
    "    addIngrediente = int(input(\"E agora? \\n\"\n",
    "                           \"1.Add um ovo, 2.Add manteiga, 3.Add sal, 4.Acabei de adicionar os ingredientes\"))\n",
    "    textIngrediente(addIngrediente, lista, continua)"
   ]
  }
 ],
 "metadata": {
  "kernelspec": {
   "display_name": "Python 3",
   "language": "python",
   "name": "python3"
  },
  "language_info": {
   "codemirror_mode": {
    "name": "ipython",
    "version": 3
   },
   "file_extension": ".py",
   "mimetype": "text/x-python",
   "name": "python",
   "nbconvert_exporter": "python",
   "pygments_lexer": "ipython3",
   "version": "3.6.6"
  }
 },
 "nbformat": 4,
 "nbformat_minor": 2
}
