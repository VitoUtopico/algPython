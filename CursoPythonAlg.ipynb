{
 "cells": [
  {
   "cell_type": "markdown",
   "metadata": {},
   "source": [
    "# Indice:\n",
    "\n",
    "1. [**Algoritmos**](#1)  \n",
    "    1.1. [**O que são:**](#1.1)  \n",
    "    1.2. [**Desenvolvendo o algoritmo**](#1.2)\n",
    "2. [**Python**](#2)  \n",
    "    2.1. [**Linguagem de programação**](#2.1) <br>\n",
    "    2.2. [**Características do Python**](#2.2)"
   ]
  },
  {
   "cell_type": "markdown",
   "metadata": {},
   "source": [
    "# 1. Algoritmos <a name=\"1\"/>\n",
    "\n",
    "### 1.1. O que são: <a name=\"1.1\"/>\n",
    "\n",
    "   * **Sequencia de procedimentos a se seguir para atingir determinado resultado**\n",
    "   \n",
    "### 1.2. Desenvolvendo o algoritmo (sugestões):  <a name=\"1.2\" />\n",
    "\n",
    "* **Descrever a tarefa;**\n",
    "* **Esquematisar a tarefa;**\n",
    "* **Transformar esse esquema em uma forma gráfica.**\n",
    "\n",
    "# 2. Python <a name=\"2\">\n",
    "\n",
    " ### 2.1. Linguagem de programação: <a name=\"2.1\">\n",
    "    \n",
    "* **Linguagem formal desenvolvida para instruir um sistema computacional a realizar determinada tarefa;**\n",
    "* **Existem várias, como C, C++, C#, PHP, Pascal, Java, Assembly, Scratch, Pearl, Ruby... ah! Python também!**\n",
    "\n",
    "### 2.2 Características do Python:  <a name=\"2.2\">\n",
    "* **Linguagem interpretada;**\n",
    "* **Popular, simples e agradável de lidar;**\n",
    "* **Expressiva;**\n",
    "* **Multiplataforma;**\n",
    "* **Biblioteca padrão bastante extensa (muito recurso nativo);**\n",
    "* **Milhares de bibliotecas e frameworks como NumPy, Pandas, Scykit-learn, Django, Kivy...**"
   ]
  },
  {
   "cell_type": "markdown",
   "metadata": {},
   "source": [
    "\n"
   ]
  },
  {
   "cell_type": "markdown",
   "metadata": {},
   "source": [
    "# !!!! Mão na massa!!!!"
   ]
  },
  {
   "cell_type": "markdown",
   "metadata": {},
   "source": [
    "# Descrevendo uma tarefa:\n",
    "\n",
    "#### Separar ingredientes:\n",
    "> - 2x Ovos;\n",
    "> - Manteiga;\n",
    "> - Sal.\n",
    "\n",
    "#### Preparo:\n",
    "- Acender o fogo baixo;\n",
    "- Adicionar manteiga suficiente à frigideira;\n",
    "- Adicionar os ovos sem casca à frigideira;\n",
    "- Adicionar um pouco de sal;\n",
    "- Caso queira ovos mexidos:\n",
    "        Mexer um pouco os ovos enquanto fritam;\n",
    "  Caso não:\n",
    "        Mantenha tempo sificiente para a clara ficar completamente branca;\n",
    "- Ovos prontos!\n"
   ]
  },
  {
   "cell_type": "code",
   "execution_count": null,
   "metadata": {},
   "outputs": [],
   "source": [
    "lista = list()"
   ]
  },
  {
   "cell_type": "code",
   "execution_count": null,
   "metadata": {},
   "outputs": [],
   "source": [
    "def textFogo(intensidade, lista):\n",
    "    if intensidade == 1: lista.append('Fogo alto')\n",
    "    else: lista.append('Fogo baixo')"
   ]
  },
  {
   "cell_type": "code",
   "execution_count": null,
   "metadata": {},
   "outputs": [],
   "source": [
    "def textIngrediente(numIngrediente, lista):\n",
    "    if numIngrediente == 1: \n",
    "        lista.append('Ovo')\n",
    "        return True\n",
    "    elif numIngrediente == 2: \n",
    "        lista.append('Manteiga')\n",
    "        return True\n",
    "    elif numIngrediente == 3: \n",
    "        lista.append('Sal')\n",
    "        return True\n",
    "    elif numIngrediente == 4: \n",
    "        return  False"
   ]
  },
  {
   "cell_type": "code",
   "execution_count": null,
   "metadata": {
    "scrolled": true
   },
   "outputs": [],
   "source": [
    "print('O que deseja fazer?')\n",
    "intensidade = int(input('1.Acender o fogo alto, 2.Acender o fogo baixo \\n'))\n",
    "\n",
    "continua = True\n",
    "while(continua == True):\n",
    "    addIngrediente = int(input(\"E agora? \\n\"\n",
    "                           \"1.Add um ovo, 2.Add manteiga, 3.Add sal, 4.Acabei de adicionar os ingredientes \\n\"))\n",
    "    continua = textIngrediente(addIngrediente, lista)\n"
   ]
  },
  {
   "cell_type": "code",
   "execution_count": null,
   "metadata": {},
   "outputs": [],
   "source": [
    "intensidade"
   ]
  }
 ],
 "metadata": {
  "kernelspec": {
   "display_name": "Python 3",
   "language": "python",
   "name": "python3"
  },
  "language_info": {
   "codemirror_mode": {
    "name": "ipython",
    "version": 3
   },
   "file_extension": ".py",
   "mimetype": "text/x-python",
   "name": "python",
   "nbconvert_exporter": "python",
   "pygments_lexer": "ipython3",
   "version": "3.6.6"
  }
 },
 "nbformat": 4,
 "nbformat_minor": 2
}
